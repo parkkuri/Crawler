{
 "cells": [
  {
   "cell_type": "code",
   "execution_count": null,
   "metadata": {},
   "outputs": [],
   "source": [
    "#서울캠퍼스\n",
    "\n",
    "driver.get('https://map.naver.com/')\n",
    "\n",
    "for inx in range(0,len(all_pd_seoul)+1):\n",
    "    all_pd_1 = all_pd_seoul.iloc[inx]\n",
    "    rest_name = all_pd_1['title']\n",
    "    rest_address = all_pd_1['address']\n",
    "\n",
    "    driver.find_element_by_xpath('//*[@id=\"nav\"]/ul/li[2]/a').click()\n",
    "    time.sleep(1)\n",
    "\n",
    "    driver.find_element_by_xpath('//*[@id=\"panel\"]/div[2]/div[1]/div[1]/div[1]/div[1]/div[1]/span/input').send_keys('경희대학교 서울캠퍼스',Keys.RETURN)\n",
    "    time.sleep(1)\n",
    "    driver.find_element_by_xpath('//*[@id=\"panel\"]/div[2]/div[1]/div[1]/div[1]/div[1]/div[2]/span/input').click()\n",
    "    time.sleep(1)\n",
    "\n",
    "    driver.find_element_by_xpath('//*[@id=\"panel\"]/div[2]/div[1]/div[1]/div[1]/div[1]/div[2]/span/input').send_keys(rest_name,Keys.RETURN)\n",
    "\n",
    "    time.sleep(1)\n",
    "    driver.find_element_by_xpath('//*[@id=\"panel\"]/div[2]/div[1]/div[1]/div[1]/div[2]/a[3]').click()\n",
    "    time.sleep(1)\n",
    "    filename = rest_name + rest_address\n",
    "    driver.save_screenshot('./khuthon/'+filename+'.png')\n",
    "    time.sleep(1)\n",
    "\n",
    "    driver.find_element_by_xpath('//*[@id=\"panel\"]/div[2]/div[1]/div[1]/div[1]/div[1]/div[1]/span/input').clear()\n",
    "    driver.find_element_by_xpath('//*[@id=\"panel\"]/div[2]/div[1]/div[1]/div[1]/div[1]/div[2]/span/input').clear()\n",
    "    time.sleep(1)\n"
   ]
  }
 ],
 "metadata": {
  "kernelspec": {
   "display_name": "Python 3",
   "language": "python",
   "name": "python3"
  },
  "language_info": {
   "codemirror_mode": {
    "name": "ipython",
    "version": 3
   },
   "file_extension": ".py",
   "mimetype": "text/x-python",
   "name": "python",
   "nbconvert_exporter": "python",
   "pygments_lexer": "ipython3",
   "version": "3.7.2"
  }
 },
 "nbformat": 4,
 "nbformat_minor": 2
}
